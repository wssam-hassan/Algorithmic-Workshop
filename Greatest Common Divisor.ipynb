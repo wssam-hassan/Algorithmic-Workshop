{
 "cells": [
  {
   "cell_type": "markdown",
   "metadata": {},
   "source": [
    "# Greatest Common Divisor (gcd)"
   ]
  },
  {
   "cell_type": "markdown",
   "metadata": {},
   "source": [
    "### The Fisrt Way: min value divisors"
   ]
  },
  {
   "cell_type": "code",
   "execution_count": 1,
   "metadata": {},
   "outputs": [],
   "source": [
    "def gcd(a, b):\n",
    "    \n",
    "    # we get the min and max value of the both\n",
    "    miN = min(a, b)\n",
    "    maX = max(a, b)\n",
    "    \n",
    "    # chech if the min number is zero. In that case there's no gcd\n",
    "    if miN == 0:\n",
    "        gcd_value = 0\n",
    "    \n",
    "    # if the max number is dividable by the min number, the gcd will be the min number\n",
    "    elif maX% miN == 0:\n",
    "        gcd_value = miN\n",
    "    \n",
    "    else:\n",
    "        \n",
    "        # get the divisors of the min number\n",
    "        divisors = []\n",
    "        for i in range(1, miN):\n",
    "            if miN%i == 0:\n",
    "                divisors.append(i)\n",
    "        \n",
    "        #reverse the array, so the maximum divisors will be in the beginning of the array\n",
    "        divisors = divisors[::-1]\n",
    "        \n",
    "        #the gcd will be the first dividable number in divisors array\n",
    "        for i in range(len(divisors)):\n",
    "            if maX % divisors[i] ==0:\n",
    "                gcd_value = divisors[i]\n",
    "                break\n",
    "\n",
    "                \n",
    "    return gcd_value"
   ]
  },
  {
   "cell_type": "code",
   "execution_count": 2,
   "metadata": {},
   "outputs": [
    {
     "data": {
      "text/plain": [
       "3"
      ]
     },
     "execution_count": 2,
     "metadata": {},
     "output_type": "execute_result"
    }
   ],
   "source": [
    "#Test\n",
    "gcd(24, 21)"
   ]
  },
  {
   "cell_type": "markdown",
   "metadata": {},
   "source": [
    "### The Second  Way: Eculidean GCD\n",
    "\n",
    "- This way depends on Eculidean's formula to get the gcd"
   ]
  },
  {
   "cell_type": "code",
   "execution_count": 3,
   "metadata": {},
   "outputs": [],
   "source": [
    "def gcd_ecl(a, b):\n",
    "    \n",
    "    miN = min(a, b)\n",
    "    maX = max(a, b)\n",
    "    \n",
    "    if miN == 0:\n",
    "        return maX\n",
    "    \n",
    "    else:\n",
    "        while miN != 0:\n",
    "            maX, miN = miN, maX%miN\n",
    "        \n",
    "        return maX"
   ]
  },
  {
   "cell_type": "code",
   "execution_count": 6,
   "metadata": {},
   "outputs": [
    {
     "data": {
      "text/plain": [
       "6"
      ]
     },
     "execution_count": 6,
     "metadata": {},
     "output_type": "execute_result"
    }
   ],
   "source": [
    "#Test\n",
    "gcd_ecl(24, 6)"
   ]
  }
 ],
 "metadata": {
  "kernelspec": {
   "display_name": "Python 3",
   "language": "python",
   "name": "python3"
  },
  "language_info": {
   "codemirror_mode": {
    "name": "ipython",
    "version": 3
   },
   "file_extension": ".py",
   "mimetype": "text/x-python",
   "name": "python",
   "nbconvert_exporter": "python",
   "pygments_lexer": "ipython3",
   "version": "3.8.5"
  },
  "toc": {
   "base_numbering": 1,
   "nav_menu": {},
   "number_sections": true,
   "sideBar": true,
   "skip_h1_title": false,
   "title_cell": "Table of Contents",
   "title_sidebar": "Contents",
   "toc_cell": false,
   "toc_position": {},
   "toc_section_display": true,
   "toc_window_display": false
  }
 },
 "nbformat": 4,
 "nbformat_minor": 4
}
