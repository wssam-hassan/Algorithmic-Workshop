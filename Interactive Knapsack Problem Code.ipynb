{
 "cells": [
  {
   "cell_type": "code",
   "execution_count": 1,
   "metadata": {},
   "outputs": [],
   "source": [
    "import pandas as pd"
   ]
  },
  {
   "cell_type": "markdown",
   "metadata": {},
   "source": [
    "### Fractional Functions"
   ]
  },
  {
   "cell_type": "markdown",
   "metadata": {},
   "source": [
    "#### Minimum Weight"
   ]
  },
  {
   "cell_type": "code",
   "execution_count": 2,
   "metadata": {},
   "outputs": [],
   "source": [
    "def min_weight_fractional(data):\n",
    "    weights = []\n",
    "    profits = []\n",
    "\n",
    "    for i in range(1, len(data) +1):\n",
    "        weights.append(data[i]['Weight'])\n",
    "        profits.append(data[i]['profit'])\n",
    "        \n",
    "    usable_data = sorted(list(zip(weights, profits)))\n",
    "    \n",
    "    weight, profit = 0, 0\n",
    "    for w,p in usable_data:\n",
    "        weight += w\n",
    "        if weight <= max_weight:\n",
    "            profit += p\n",
    "\n",
    "        else:\n",
    "            weight -= w\n",
    "            added_weight = max_weight - weight\n",
    "            weight += added_weight\n",
    "            profit += (added_weight/w) * p\n",
    "\n",
    "        if weight == max_weight:\n",
    "            break\n",
    "    \n",
    "    print(\"The Minimum Weight type gives profit= {}\".format(profit))"
   ]
  },
  {
   "cell_type": "markdown",
   "metadata": {},
   "source": [
    "#### Maximum Profit"
   ]
  },
  {
   "cell_type": "code",
   "execution_count": 3,
   "metadata": {},
   "outputs": [],
   "source": [
    "def max_profit_fractional(data):\n",
    "    weights = []\n",
    "    profits = []\n",
    "\n",
    "    for i in range(1, len(data) +1):\n",
    "        weights.append(data[i]['Weight'])\n",
    "        profits.append(data[i]['profit'])\n",
    "        \n",
    "    usable_data = sorted(list(zip(profits, weights)), reverse = True)\n",
    "    \n",
    "    weight, profit = 0, 0\n",
    "    for p,w in usable_data:\n",
    "        weight += w\n",
    "        if weight <= max_weight:\n",
    "            profit += p\n",
    "\n",
    "        else:\n",
    "            weight -= w\n",
    "            added_weight = max_weight - weight\n",
    "            weight += added_weight\n",
    "            profit += (added_weight/w) * p\n",
    "\n",
    "        if weight == max_weight:\n",
    "            break\n",
    "        \n",
    "    print(\"The Maximum Profit type gives profit= {}\".format(profit))"
   ]
  },
  {
   "cell_type": "markdown",
   "metadata": {},
   "source": [
    "#### Maximum Profit / Weight"
   ]
  },
  {
   "cell_type": "code",
   "execution_count": 4,
   "metadata": {},
   "outputs": [],
   "source": [
    "def max_profit_by_weight_fractional(data):\n",
    "    weights = []\n",
    "    profits_by_weights = []\n",
    "\n",
    "    for i in range(1, len(data) +1):\n",
    "        weights.append(data[i]['Weight'])\n",
    "        profits_by_weights.append(data[i]['profit']/data[i]['Weight'])\n",
    "        \n",
    "    usable_data = sorted(list(zip(profits_by_weights, weights)), reverse = True)\n",
    "    \n",
    "    weight, profit = 0, 0\n",
    "    for p,w in usable_data:\n",
    "        weight += w\n",
    "        if weight <= max_weight:\n",
    "            profit += p*w\n",
    "\n",
    "        else:\n",
    "            weight -= w\n",
    "            added_weight = max_weight - weight\n",
    "            weight += added_weight\n",
    "            profit += (added_weight/w) * p*w\n",
    "\n",
    "        if weight == max_weight:\n",
    "            break\n",
    "    \n",
    "    print(\"The Maximum Profit by Weight type gives profit= {}\".format(profit))"
   ]
  },
  {
   "cell_type": "markdown",
   "metadata": {},
   "source": [
    "### 0 - 1 Functions"
   ]
  },
  {
   "cell_type": "markdown",
   "metadata": {},
   "source": [
    "#### Minimum Weight"
   ]
  },
  {
   "cell_type": "code",
   "execution_count": 5,
   "metadata": {},
   "outputs": [],
   "source": [
    "def min_weight_0_1(data):\n",
    "    weights = []\n",
    "    profits = []\n",
    "\n",
    "    for i in range(1, len(data) +1):\n",
    "        weights.append(data[i]['Weight'])\n",
    "        profits.append(data[i]['profit'])\n",
    "        \n",
    "    usable_data = sorted(list(zip(weights, profits)))\n",
    "    \n",
    "    weight, profit = 0, 0\n",
    "    for w,p in usable_data:\n",
    "        weight += w\n",
    "        if weight <= max_weight:\n",
    "            profit += p\n",
    "\n",
    "        else:\n",
    "            weight -= w\n",
    "            \n",
    "        if weight == max_weight:\n",
    "            break\n",
    "    \n",
    "    print(\"The Minimum Weight type gives profit= {}\".format(profit))"
   ]
  },
  {
   "cell_type": "markdown",
   "metadata": {},
   "source": [
    "#### Maximum Profit"
   ]
  },
  {
   "cell_type": "code",
   "execution_count": 6,
   "metadata": {},
   "outputs": [],
   "source": [
    "def max_profit_0_1(data):\n",
    "    weights = []\n",
    "    profits = []\n",
    "\n",
    "    for i in range(1, len(data) +1):\n",
    "        weights.append(data[i]['Weight'])\n",
    "        profits.append(data[i]['profit'])\n",
    "        \n",
    "    usable_data = sorted(list(zip(profits, weights)), reverse = True)\n",
    "    \n",
    "    weight, profit = 0, 0\n",
    "    for p,w in usable_data:\n",
    "        weight += w\n",
    "        if weight <= max_weight:\n",
    "            profit += p\n",
    "\n",
    "        else:\n",
    "            weight -= w\n",
    "            \n",
    "        if weight == max_weight:\n",
    "            break\n",
    "    \n",
    "    print(\"The Maximum Profit type gives profit= {}\".format(profit))"
   ]
  },
  {
   "cell_type": "markdown",
   "metadata": {},
   "source": [
    "#### Maximum Profit / Weight"
   ]
  },
  {
   "cell_type": "code",
   "execution_count": 7,
   "metadata": {},
   "outputs": [],
   "source": [
    "def max_profit_by_weight_0_1(data):\n",
    "    weights = []\n",
    "    profits_by_weights = []\n",
    "\n",
    "    for i in range(1, len(data) +1):\n",
    "        weights.append(data[i]['Weight'])\n",
    "        profits_by_weights.append(data[i]['profit']/data[i]['Weight'])\n",
    "        \n",
    "    usable_data = sorted(list(zip(profits_by_weights, weights)), reverse = True)\n",
    "    \n",
    "    weight, profit = 0, 0\n",
    "    for p,w in usable_data:\n",
    "        weight += w\n",
    "        if weight <= max_weight:\n",
    "            profit += p*w\n",
    "\n",
    "        else:\n",
    "            weight -= w\n",
    "            \n",
    "        if weight == max_weight:\n",
    "            break\n",
    "    \n",
    "    print(\"The Maximum Profit by Weight type gives profit= {}\".format(profit))"
   ]
  },
  {
   "cell_type": "markdown",
   "metadata": {},
   "source": [
    "### Data Entry"
   ]
  },
  {
   "cell_type": "code",
   "execution_count": 8,
   "metadata": {},
   "outputs": [],
   "source": [
    "max_weight = 0\n",
    "data = {}\n",
    "\n",
    "def prolem_data():\n",
    "    while True:\n",
    "\n",
    "        #Enter knapsack maximum weight\n",
    "        while True:\n",
    "            try:\n",
    "                global max_weight\n",
    "                max_weight = float(input(\"What is knapsack maximum weight? \"))\n",
    "                break\n",
    "            except:\n",
    "                print(\"If you please, Enter a valid numerical weight value.\")\n",
    "\n",
    "\n",
    "        #Enter number of items\n",
    "        while True:\n",
    "            try:\n",
    "                items_num = int(input(\"How many items? \"))\n",
    "                break\n",
    "            except:\n",
    "                print(\"If you please, Enter a valid number of items.\")\n",
    "\n",
    "\n",
    "        #Enter data of items\n",
    "        global data\n",
    "        \n",
    "        for i in range (1, items_num +1):\n",
    "\n",
    "            #Item's weight\n",
    "            while True:\n",
    "                try:\n",
    "                    Weight = float(input(f'item {i} weight= '))\n",
    "                    break\n",
    "                except:\n",
    "                    print(\"If you please, Enter a valid numerical value of item's weight.\")\n",
    "\n",
    "            #Item's profit\n",
    "            while True:\n",
    "                try:\n",
    "                    profit = float(input(f'item {i} profit= '))\n",
    "                    break\n",
    "                except:\n",
    "                    print(\"If you please, Enter a valid numerical value of item's profit.\")\n",
    "\n",
    "            data[i] = {'Weight' : Weight, 'profit' : profit}\n",
    "              \n",
    "        break"
   ]
  },
  {
   "cell_type": "markdown",
   "metadata": {},
   "source": [
    "### Results"
   ]
  },
  {
   "cell_type": "code",
   "execution_count": 9,
   "metadata": {},
   "outputs": [],
   "source": [
    "def result_and_repeat():\n",
    "    while True:\n",
    "        print(\"\")\n",
    "        print(\"IF you please, Check the following Table and Choose your desired Type.\")\n",
    "        print(\"- - - - - - - - - - - - - - - - - - - - - - - - - - - - - - - - \")\n",
    "\n",
    "        menu = { 'Minimum Weight' : { 'Fractional' : 1 , '0 - 1' : 5 },\n",
    "                 'Maximum Profit' : { 'Fractional' : 2 , '0 - 1' : 6 },\n",
    "                 'Maximum Profit/Weight' : { 'Fractional' : 3 , '0 - 1' : 7 },\n",
    "                 'All' : { 'Fractional' : 4 , '0 - 1' : 8 }}\n",
    "\n",
    "        print(pd.DataFrame(menu))\n",
    "\n",
    "        #Enter the desired type of knapsack problem solution\n",
    "        try:\n",
    "            desired_type = int(input(\"Type = \"))\n",
    "\n",
    "            if desired_type not in list(range(1,9)):\n",
    "                print(\"The desired type you entered is not valid.\")\n",
    "                print(\"Please, Re-enter your choice correctly.\")\n",
    "                continue\n",
    "\n",
    "            else:\n",
    "\n",
    "                #Problem Data Visualization\n",
    "                print(\"\")\n",
    "                print(\"- - - - - - - - - - - - - - - - - - - - - - - - - - - - - - - - - - - - - -\")\n",
    "                print(\"\")\n",
    "\n",
    "                print(\"Problem Data:\")\n",
    "                print(\"- - - - - - -\")\n",
    "                print(\"knapsack maximum weight = {}\".format(max_weight))\n",
    "                print(\"\")\n",
    "                print(\"items weights and profits:\")\n",
    "                print(\"\")\n",
    "                print(pd.DataFrame(data))\n",
    "                print(\"\")\n",
    "\n",
    "                print(\"Results:\")\n",
    "                print(\"- - - - -\")\n",
    "\n",
    "\n",
    "                if desired_type == 1:\n",
    "                    min_weight_fractional(data)\n",
    "\n",
    "                elif desired_type == 2:\n",
    "                    max_profit_fractional(data)\n",
    "\n",
    "                elif desired_type == 3:\n",
    "                    max_profit_by_weight_fractional(data)\n",
    "\n",
    "                elif desired_type == 4:\n",
    "                    min_weight_fractional(data)\n",
    "                    max_profit_fractional(data)\n",
    "                    max_profit_by_weight_fractional(data)\n",
    "\n",
    "                elif desired_type == 5:\n",
    "                    min_weight_0_1(data)\n",
    "\n",
    "                elif desired_type == 6:\n",
    "                    max_profit_0_1(data)\n",
    "\n",
    "                elif desired_type == 7:\n",
    "                    max_profit_by_weight_0_1(data)\n",
    "\n",
    "                #elif desired_type == 8:\n",
    "                else:\n",
    "                    min_weight_0_1(data)\n",
    "                    max_profit_0_1(data)\n",
    "                    max_profit_by_weight_0_1(data)\n",
    "\n",
    "                print(\"- - - - -\")\n",
    "                print(\"\")\n",
    "\n",
    "                #Repeation\n",
    "                while True:\n",
    "                    repeat = input(\"Do you want to repeat your calculation on the same problem with another method? [Y/N]\").lower()\n",
    "\n",
    "                    if repeat == \"y\" or repeat == \"n\":\n",
    "                        break\n",
    "\n",
    "                    else:\n",
    "                        print(\"If you please, Enter [Y/N] correctly.\")\n",
    "\n",
    "                if repeat == \"y\":\n",
    "                    continue\n",
    "\n",
    "            break\n",
    "\n",
    "        except:\n",
    "            print(\"If you please, Enter a valid number as shown in Table.\")"
   ]
  },
  {
   "cell_type": "markdown",
   "metadata": {},
   "source": [
    "### Main Problem code"
   ]
  },
  {
   "cell_type": "code",
   "execution_count": 10,
   "metadata": {},
   "outputs": [],
   "source": [
    "def main():\n",
    "    while True:\n",
    "        prolem_data()\n",
    "        result_and_repeat()\n",
    "        \n",
    "        while True:\n",
    "            repeat_all = input(\"Do you want to repeat your calculation on another problem data? [Y/N]\").lower()\n",
    "\n",
    "            if repeat_all == \"y\" or repeat_all == \"n\":\n",
    "                break\n",
    "\n",
    "            else:\n",
    "                print(\"If you please, Enter [Y/N] correctly.\")\n",
    "\n",
    "        if repeat_all == \"y\":\n",
    "            continue\n",
    "        \n",
    "        else:\n",
    "            print(\"- - - - - - - -\")\n",
    "            print(\"\")\n",
    "            print(\"End Program...\")\n",
    "            break"
   ]
  },
  {
   "cell_type": "markdown",
   "metadata": {},
   "source": [
    "### Run"
   ]
  },
  {
   "cell_type": "code",
   "execution_count": 11,
   "metadata": {},
   "outputs": [
    {
     "name": "stdout",
     "output_type": "stream",
     "text": [
      "What is knapsack maximum weight? 15\n",
      "How many items? 3\n",
      "item 1 weight= يسل\n",
      "If you please, Enter a valid numerical value of item's weight.\n",
      "item 1 weight= 5\n",
      "item 1 profit= 1\n",
      "item 2 weight= 2\n",
      "item 2 profit= 3\n",
      "item 3 weight= 4\n",
      "item 3 profit= 8\n",
      "\n",
      "IF you please, Check the following Table and Choose your desired Type.\n",
      "- - - - - - - - - - - - - - - - - - - - - - - - - - - - - - - - \n",
      "            Minimum Weight  Maximum Profit  Maximum Profit/Weight  All\n",
      "Fractional               1               2                      3    4\n",
      "0 - 1                    5               6                      7    8\n",
      "Type = 6\n",
      "\n",
      "- - - - - - - - - - - - - - - - - - - - - - - - - - - - - - - - - - - - - -\n",
      "\n",
      "Problem Data:\n",
      "- - - - - - -\n",
      "knapsack maximum weight = 15.0\n",
      "\n",
      "items weights and profits:\n",
      "\n",
      "          1    2    3\n",
      "Weight  5.0  2.0  4.0\n",
      "profit  1.0  3.0  8.0\n",
      "\n",
      "Results:\n",
      "- - - - -\n",
      "The Maximum Profit type gives profit= 12.0\n",
      "- - - - -\n",
      "\n",
      "Do you want to repeat your calculation on the same problem with another method? [Y/N]n\n",
      "Do you want to repeat your calculation on another problem data? [Y/N]n\n",
      "- - - - - - - -\n",
      "\n",
      "End Program...\n"
     ]
    }
   ],
   "source": [
    "main()"
   ]
  }
 ],
 "metadata": {
  "kernelspec": {
   "display_name": "Python 3",
   "language": "python",
   "name": "python3"
  },
  "language_info": {
   "codemirror_mode": {
    "name": "ipython",
    "version": 3
   },
   "file_extension": ".py",
   "mimetype": "text/x-python",
   "name": "python",
   "nbconvert_exporter": "python",
   "pygments_lexer": "ipython3",
   "version": "3.8.5"
  }
 },
 "nbformat": 4,
 "nbformat_minor": 4
}
