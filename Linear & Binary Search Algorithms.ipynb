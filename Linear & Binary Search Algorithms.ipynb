{
 "cells": [
  {
   "cell_type": "markdown",
   "metadata": {},
   "source": [
    "# Linear Search"
   ]
  },
  {
   "cell_type": "code",
   "execution_count": 2,
   "metadata": {},
   "outputs": [],
   "source": [
    "def linear_search_iter(lst, element):\n",
    "    exists = False\n",
    "    for index in range(len(lst)):\n",
    "        if element == lst[index]:\n",
    "            print(f'{element} exists in the list in index: {index}')\n",
    "            exists = True\n",
    "            break\n",
    "    \n",
    "    if exists == False:\n",
    "        print(f'Error!\\n{element} doesn\\'t exist in the list.')"
   ]
  },
  {
   "cell_type": "code",
   "execution_count": 3,
   "metadata": {},
   "outputs": [
    {
     "name": "stdout",
     "output_type": "stream",
     "text": [
      "8 exists in the list in index: 7\n"
     ]
    }
   ],
   "source": [
    "#Check\n",
    "numbers = [1,2,3,4,5,6,7,8,9]\n",
    "linear_search_iter(numbers, 8)"
   ]
  },
  {
   "cell_type": "markdown",
   "metadata": {},
   "source": [
    "# Binary Search"
   ]
  },
  {
   "cell_type": "code",
   "execution_count": 4,
   "metadata": {},
   "outputs": [],
   "source": [
    "def binary_search_iter(lst, element):\n",
    "    \n",
    "    first = 0\n",
    "    last = len(lst) -1\n",
    "    mid = (first + last) //2\n",
    "    \n",
    "    while True:\n",
    "        if lst[mid] == element:\n",
    "            print(f'{element} exists in the list in index: {mid}')\n",
    "            break\n",
    "        \n",
    "        elif last == mid and first == mid:\n",
    "            print(f'Error!\\n{element} doesn\\'t exist in the list.')\n",
    "            False\n",
    "            break\n",
    "            \n",
    "        elif lst[mid] > element:\n",
    "            last = mid -1\n",
    "            mid = (first + last) //2 \n",
    "        \n",
    "        else:\n",
    "            first = mid + 1\n",
    "            mid = (first + last) //2"
   ]
  },
  {
   "cell_type": "code",
   "execution_count": 5,
   "metadata": {},
   "outputs": [
    {
     "name": "stdout",
     "output_type": "stream",
     "text": [
      "9 exists in the list in index: 8\n"
     ]
    }
   ],
   "source": [
    "#Check\n",
    "numbers = [1,2,3,4,5,6,7,8,9]\n",
    "binary_search_iter(numbers, 9)"
   ]
  }
 ],
 "metadata": {
  "kernelspec": {
   "display_name": "Python 3",
   "language": "python",
   "name": "python3"
  },
  "language_info": {
   "codemirror_mode": {
    "name": "ipython",
    "version": 3
   },
   "file_extension": ".py",
   "mimetype": "text/x-python",
   "name": "python",
   "nbconvert_exporter": "python",
   "pygments_lexer": "ipython3",
   "version": "3.8.5"
  },
  "toc": {
   "base_numbering": 1,
   "nav_menu": {},
   "number_sections": true,
   "sideBar": true,
   "skip_h1_title": false,
   "title_cell": "Table of Contents",
   "title_sidebar": "Contents",
   "toc_cell": false,
   "toc_position": {},
   "toc_section_display": true,
   "toc_window_display": false
  }
 },
 "nbformat": 4,
 "nbformat_minor": 4
}
